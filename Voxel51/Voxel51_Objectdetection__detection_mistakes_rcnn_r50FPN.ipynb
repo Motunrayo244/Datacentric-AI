{
  "cells": [
    {
      "cell_type": "markdown",
      "metadata": {
        "id": "view-in-github",
        "colab_type": "text"
      },
      "source": [
        "<a href=\"https://colab.research.google.com/github/Motunrayo244/Datacentric-AI/blob/main/Voxel51/Voxel51_Objectdetection__detection_mistakes_rcnn_r50FPN.ipynb\" target=\"_parent\"><img src=\"https://colab.research.google.com/assets/colab-badge.svg\" alt=\"Open In Colab\"/></a>"
      ]
    },
    {
      "cell_type": "markdown",
      "metadata": {
        "id": "K1bmisr8vbf-"
      },
      "source": [
        "# Finding Detection Mistakes with FiftyOne\n",
        "\n",
        "Annotations mistakes create an artificial ceiling on the performance of your models. However, finding these mistakes by hand is at least as arduous as the original annotation work! Enter FiftyOne.\n",
        "\n",
        "In this tutorial, we explore how FiftyOne can be used to help you find mistakes in your object detection annotations. To detect mistakes in classification datasets, check out [this tutorial](https://voxel51.com/docs/fiftyone/tutorials/classification_mistakes.html).\n",
        "\n",
        "We'll cover the following concepts:\n",
        "\n",
        "- Loading your existing dataset [into FiftyOne](https://voxel51.com/docs/fiftyone/user_guide/dataset_creation/index.html)\n",
        "- [Adding model predictions](https://voxel51.com/docs/fiftyone/recipes/adding_detections.html) to your dataset\n",
        "- Computing insights into your dataset relating to [possible label mistakes](https://voxel51.com/docs/fiftyone/user_guide/brain.html#label-mistakes)\n",
        "- Visualizing mistakes in the [FiftyOne App](https://voxel51.com/docs/fiftyone/user_guide/app.html)\n",
        "\n",
        "**So, what's the takeaway?**\n",
        "\n",
        "FiftyOne can help you find and correct label mistakes in your datasets, enabling you to curate higher quality datasets and, ultimately, train better models!"
      ]
    },
    {
      "cell_type": "markdown",
      "metadata": {
        "id": "qil3F1LHvbgB"
      },
      "source": [
        "## Setup\n",
        "\n",
        "If you haven't already, install FiftyOne:"
      ]
    },
    {
      "cell_type": "code",
      "execution_count": 1,
      "metadata": {
        "id": "b3XBj2HsvbgC"
      },
      "outputs": [],
      "source": [
        "%%capture\n",
        "!pip install fiftyone"
      ]
    },
    {
      "cell_type": "code",
      "source": [
        "%%capture\n",
        "! python -m pip install pyyaml==5.1\n",
        "! python -m pip install 'git+https://github.com/facebookresearch/detectron2.git'"
      ],
      "metadata": {
        "id": "nsNTbAxSR3R_"
      },
      "execution_count": 14,
      "outputs": []
    },
    {
      "cell_type": "markdown",
      "metadata": {
        "id": "77B4zjJGvbgD"
      },
      "source": [
        "In order to compute mistakenness, your dataset needs to have two [detections fields](https://voxel51.com/docs/fiftyone/user_guide/using_datasets.html#object-detection), one with your ground truth annotations and one with your model predictions.\n",
        "\n",
        "In this example, we'll load the [quickstart dataset](https://voxel51.com/docs/fiftyone/user_guide/dataset_zoo/datasets.html#dataset-zoo-quickstart) from the FiftyOne Dataset Zoo, which has ground truth annotations and predictions from a [PyTorch Faster-RCNN model](https://github.com/pytorch/vision/blob/master/torchvision/models/detection/faster_rcnn.py) for a few samples from the COCO dataset."
      ]
    },
    {
      "cell_type": "code",
      "source": [
        "!wget -nc 'https://cleanlab-public.s3.amazonaws.com/ObjectDetectionBenchmarking/tutorial_obj/example_images.zip' && unzip -q -o example_images.zip"
      ],
      "metadata": {
        "colab": {
          "base_uri": "https://localhost:8080/"
        },
        "id": "0tKy8l7zfTZ6",
        "outputId": "8b9e4baa-ea31-4801-f5ec-0b661d8d3f72"
      },
      "execution_count": 2,
      "outputs": [
        {
          "output_type": "stream",
          "name": "stdout",
          "text": [
            "--2024-03-24 20:59:45--  https://cleanlab-public.s3.amazonaws.com/ObjectDetectionBenchmarking/tutorial_obj/example_images.zip\n",
            "Resolving cleanlab-public.s3.amazonaws.com (cleanlab-public.s3.amazonaws.com)... 16.182.43.41, 52.216.216.129, 52.216.33.57, ...\n",
            "Connecting to cleanlab-public.s3.amazonaws.com (cleanlab-public.s3.amazonaws.com)|16.182.43.41|:443... connected.\n",
            "HTTP request sent, awaiting response... 200 OK\n",
            "Length: 17340957 (17M) [application/zip]\n",
            "Saving to: ‘example_images.zip’\n",
            "\n",
            "example_images.zip  100%[===================>]  16.54M  43.4MB/s    in 0.4s    \n",
            "\n",
            "2024-03-24 20:59:45 (43.4 MB/s) - ‘example_images.zip’ saved [17340957/17340957]\n",
            "\n"
          ]
        }
      ]
    },
    {
      "cell_type": "code",
      "source": [
        "! wget -nc http://images.cocodataset.org/annotations/annotations_trainval2017.zip && unzip -q -o annotations_trainval2017.zip"
      ],
      "metadata": {
        "colab": {
          "base_uri": "https://localhost:8080/"
        },
        "id": "I2_Vc8pcwdTi",
        "outputId": "f1f9bb04-3235-4562-96a1-d066e327e2a6"
      },
      "execution_count": 3,
      "outputs": [
        {
          "output_type": "stream",
          "name": "stdout",
          "text": [
            "--2024-03-24 20:59:46--  http://images.cocodataset.org/annotations/annotations_trainval2017.zip\n",
            "Resolving images.cocodataset.org (images.cocodataset.org)... 16.182.69.249, 52.217.203.25, 54.231.193.73, ...\n",
            "Connecting to images.cocodataset.org (images.cocodataset.org)|16.182.69.249|:80... connected.\n",
            "HTTP request sent, awaiting response... 200 OK\n",
            "Length: 252907541 (241M) [application/zip]\n",
            "Saving to: ‘annotations_trainval2017.zip’\n",
            "\n",
            "annotations_trainva 100%[===================>] 241.19M  92.6MB/s    in 2.6s    \n",
            "\n",
            "2024-03-24 20:59:48 (92.6 MB/s) - ‘annotations_trainval2017.zip’ saved [252907541/252907541]\n",
            "\n"
          ]
        }
      ]
    },
    {
      "cell_type": "code",
      "source": [
        "import torch, detectron2\n",
        "!nvcc --version\n",
        "TORCH_VERSION = \".\".join(torch.__version__.split(\".\")[:2])\n",
        "CUDA_VERSION = torch.__version__.split(\"+\")[-1]\n",
        "print(\"torch: \", TORCH_VERSION, \"; cuda: \", CUDA_VERSION)\n",
        "print(\"detectron2:\", detectron2.__version__)"
      ],
      "metadata": {
        "colab": {
          "base_uri": "https://localhost:8080/"
        },
        "id": "_vK8bs0DRw_Z",
        "outputId": "5cb8d93a-16b0-41e8-e0ec-fbd6d39bbfef"
      },
      "execution_count": 15,
      "outputs": [
        {
          "output_type": "stream",
          "name": "stdout",
          "text": [
            "nvcc: NVIDIA (R) Cuda compiler driver\n",
            "Copyright (c) 2005-2023 NVIDIA Corporation\n",
            "Built on Tue_Aug_15_22:02:13_PDT_2023\n",
            "Cuda compilation tools, release 12.2, V12.2.140\n",
            "Build cuda_12.2.r12.2/compiler.33191640_0\n",
            "torch:  2.2 ; cuda:  cu121\n",
            "detectron2: 0.6\n"
          ]
        }
      ]
    },
    {
      "cell_type": "code",
      "source": [
        "\n",
        "from detectron2.utils.logger import setup_logger\n",
        "setup_logger()\n",
        "\n",
        "# import some common libraries\n",
        "import numpy as np\n",
        "import os, json, cv2, random\n",
        "from google.colab.patches import cv2_imshow\n",
        "\n",
        "# import some common detectron2 utilities\n",
        "from detectron2 import model_zoo\n",
        "from detectron2.engine import DefaultPredictor\n",
        "from detectron2.config import get_cfg\n",
        "from detectron2.utils.visualizer import Visualizer\n",
        "from detectron2.data import MetadataCatalog, DatasetCatalog\n",
        "from detectron2.data.datasets import register_coco_instances"
      ],
      "metadata": {
        "id": "Y7IDonT1Rn1v"
      },
      "execution_count": 16,
      "outputs": []
    },
    {
      "cell_type": "code",
      "source": [
        "\n",
        "import pickle\n",
        "import fiftyone as fo\n",
        "import fiftyone.zoo as foz\n",
        "import json\n",
        "import requests\n",
        "import os"
      ],
      "metadata": {
        "id": "6vrTd5hqaaEW",
        "colab": {
          "base_uri": "https://localhost:8080/"
        },
        "outputId": "28b3c346-c90c-40fe-a4fc-dcefb85d2dde"
      },
      "execution_count": 4,
      "outputs": [
        {
          "output_type": "stream",
          "name": "stdout",
          "text": [
            "Migrating database to v0.23.7\n"
          ]
        },
        {
          "output_type": "stream",
          "name": "stderr",
          "text": [
            "INFO:fiftyone.migrations.runner:Migrating database to v0.23.7\n"
          ]
        }
      ]
    },
    {
      "cell_type": "code",
      "source": [
        "directory = '/content/example_images'\n",
        "files = os.listdir(directory)\n",
        "# Filtering only the files.\n",
        "sample_files = [f for f in files if os.path.isfile(directory+'/'+f)]\n",
        "pickle.dump(sample_files, open('sample_images.pkl','wb'))"
      ],
      "metadata": {
        "id": "iYDtQ6X1adMJ"
      },
      "execution_count": 5,
      "outputs": []
    },
    {
      "cell_type": "code",
      "source": [
        "# List of selected image file names\n",
        "sample_image_list = pickle.load(open(\"/content/sample_images.pkl\", \"rb\"))\n",
        "\n",
        "# Path to the COCO annotations file\n",
        "annotations_path = '/content/annotations/instances_val2017.json'\n",
        "\n",
        "# Load COCO annotations\n",
        "with open(annotations_path) as f:\n",
        "    coco_data = json.load(f)\n",
        "\n",
        "# Filter images and annotations\n",
        "info = coco_data['info']\n",
        "licenses = coco_data['licenses']\n",
        "filtered_images = [img for img in coco_data['images'] if img['file_name'] in sample_image_list]\n",
        "image_ids = {img['id']: img for img in filtered_images}\n",
        "filtered_annotations = [ann for ann in coco_data['annotations'] if ann['image_id'] in image_ids and ann['category_id'] in [1,3,10,47,62]]\n",
        "\n",
        "# Save filtered annotations to a new JSON file\n",
        "filtered_data = {\n",
        "    \"info\": info,\n",
        "    \"licenses\":licenses,\n",
        "    \"images\": filtered_images,\n",
        "    \"annotations\": filtered_annotations,\n",
        "    \"categories\": coco_data['categories']  # Preserve category info\n",
        "}\n",
        "with open('annotations/filtered_annotations.json', 'w') as f:\n",
        "    json.dump(filtered_data, f, indent=4)\n"
      ],
      "metadata": {
        "id": "w8WV3hrSccj4"
      },
      "execution_count": 6,
      "outputs": []
    },
    {
      "cell_type": "code",
      "source": [
        "# Path to the COCO annotations file\n",
        "annotations_path = '/content/annotations/filtered_annotations.json'\n",
        "\n",
        "# Load COCO annotations\n",
        "with open(annotations_path) as f:\n",
        "    coco_data = json.load(f)\n",
        "\n",
        "# Count the number of annotations\n",
        "num_annotations = len(coco_data['images'])\n",
        "\n",
        "print(f\"Number of annotations: {num_annotations}\")\n"
      ],
      "metadata": {
        "colab": {
          "base_uri": "https://localhost:8080/"
        },
        "id": "1n3XvvBZe6SW",
        "outputId": "a881252d-faa2-488a-ff10-487426275ce5"
      },
      "execution_count": 7,
      "outputs": [
        {
          "output_type": "stream",
          "name": "stdout",
          "text": [
            "Number of annotations: 118\n"
          ]
        }
      ]
    },
    {
      "cell_type": "code",
      "source": [
        "IMAGES_DIR = '/content/example_images/'\n",
        "# Load COCO formatted dataset\n",
        "coco_dataset = fo.Dataset.from_dir(\n",
        "    dataset_type=fo.types.COCODetectionDataset,\n",
        "    data_path=IMAGES_DIR,\n",
        "    labels_path=\"/content/annotations/filtered_annotations.json\",\n",
        "    include_id=True,\n",
        "    name = 'cleanlab_coco_sample_dataset'\n",
        ")"
      ],
      "metadata": {
        "colab": {
          "base_uri": "https://localhost:8080/"
        },
        "id": "k5cxR4TAqzMF",
        "outputId": "e58af237-33e1-4f67-bbbf-2b9fa47c63cd"
      },
      "execution_count": 8,
      "outputs": [
        {
          "output_type": "stream",
          "name": "stdout",
          "text": [
            " 100% |█████████████████| 118/118 [2.0s elapsed, 0s remaining, 60.5 samples/s]         \n"
          ]
        },
        {
          "output_type": "stream",
          "name": "stderr",
          "text": [
            "INFO:eta.core.utils: 100% |█████████████████| 118/118 [2.0s elapsed, 0s remaining, 60.5 samples/s]         \n"
          ]
        }
      ]
    },
    {
      "cell_type": "code",
      "source": [
        "print(coco_dataset)"
      ],
      "metadata": {
        "colab": {
          "base_uri": "https://localhost:8080/"
        },
        "id": "gUuXxfphv7fa",
        "outputId": "190da987-7261-4142-9080-5e7b0a5e8d62"
      },
      "execution_count": 9,
      "outputs": [
        {
          "output_type": "stream",
          "name": "stdout",
          "text": [
            "Name:        cleanlab_coco_sample_dataset\n",
            "Media type:  image\n",
            "Num samples: 118\n",
            "Persistent:  False\n",
            "Tags:        []\n",
            "Sample fields:\n",
            "    id:            fiftyone.core.fields.ObjectIdField\n",
            "    filepath:      fiftyone.core.fields.StringField\n",
            "    tags:          fiftyone.core.fields.ListField(fiftyone.core.fields.StringField)\n",
            "    metadata:      fiftyone.core.fields.EmbeddedDocumentField(fiftyone.core.metadata.ImageMetadata)\n",
            "    detections:    fiftyone.core.fields.EmbeddedDocumentField(fiftyone.core.labels.Detections)\n",
            "    segmentations: fiftyone.core.fields.EmbeddedDocumentField(fiftyone.core.labels.Detections)\n",
            "    coco_id:       fiftyone.core.fields.IntField\n"
          ]
        }
      ]
    },
    {
      "cell_type": "code",
      "execution_count": 10,
      "metadata": {
        "id": "HCGsRPu2vbgE",
        "outputId": "54769a74-9f3b-4c28-abab-f4b9ba120b57",
        "colab": {
          "base_uri": "https://localhost:8080/"
        }
      },
      "outputs": [
        {
          "output_type": "stream",
          "name": "stdout",
          "text": [
            "<Detections: {\n",
            "    'detections': [\n",
            "        <Detection: {\n",
            "            'id': '6600946084d6a6bd91ba7d3a',\n",
            "            'attributes': {},\n",
            "            'tags': [],\n",
            "            'label': 'person',\n",
            "            'bounding_box': [\n",
            "                0.701359375,\n",
            "                0.3757460317460317,\n",
            "                0.07953125,\n",
            "                0.3899365079365079,\n",
            "            ],\n",
            "            'mask': None,\n",
            "            'confidence': None,\n",
            "            'index': None,\n",
            "            'supercategory': 'person',\n",
            "            'iscrowd': 0,\n",
            "        }>,\n",
            "    ],\n",
            "}>\n"
          ]
        }
      ],
      "source": [
        "# Print a sample ground truth detection\n",
        "sample = coco_dataset.first()\n",
        "print(sample.detections)"
      ]
    },
    {
      "cell_type": "markdown",
      "metadata": {
        "id": "SD5ZVTy1vbgE"
      },
      "source": [
        "Let's start by visualizing the dataset in the [FiftyOne App](https://voxel51.com/docs/fiftyone/user_guide/app.html):"
      ]
    },
    {
      "cell_type": "markdown",
      "source": [
        "[ ]\n",
        "# Inspect some samples and detections\n",
        "# This is the first detection of the first sample\n",
        "print(mistake_view.first().ground_truth.detections[0])\n",
        "<Detection: {\n",
        "    'id': '5f452487ef00e6374aad2744',\n",
        "    'attributes': BaseDict({}),\n",
        "    'tags': BaseList([]),\n",
        "    'label': 'tv',\n",
        "    'bounding_box': BaseList([\n",
        "        0.002746666666666667,\n",
        "        0.36082,\n",
        "        0.24466666666666667,\n",
        "        0.3732,\n",
        "    ]),\n",
        "    'mask': None,\n",
        "    'confidence': None,\n",
        "    'index': None,\n",
        "    'area': 16273.3536,\n",
        "    'iscrowd': 0.0,\n",
        "    'mistakenness': 0.005771428346633911,\n",
        "    'mistakenness_loc': 0.16955941131917984,\n",
        "}>"
      ],
      "metadata": {
        "id": "DRxcVFt_2XmU"
      }
    },
    {
      "cell_type": "code",
      "execution_count": 11,
      "metadata": {
        "id": "b2Y92ojsvbgE",
        "outputId": "a33388a1-57ec-48d9-9670-094e3f6b221c",
        "colab": {
          "base_uri": "https://localhost:8080/",
          "height": 1000
        }
      },
      "outputs": [
        {
          "output_type": "display_data",
          "data": {
            "text/plain": [
              "<IPython.core.display.HTML object>"
            ],
            "text/html": [
              "\n",
              "<style>\n",
              "\n",
              "@import url(\"https://fonts.googleapis.com/css2?family=Palanquin&display=swap\");\n",
              "\n",
              "body, html {\n",
              "  margin: 0;\n",
              "  padding: 0;\n",
              "  width: 100%;\n",
              "}\n",
              "\n",
              "#focontainer-7d776c73-85ac-41e7-a31c-fc3161ac5f5a {\n",
              "  position: relative;\n",
              "  height: px;\n",
              "  display: block !important;\n",
              "}\n",
              "#foactivate-7d776c73-85ac-41e7-a31c-fc3161ac5f5a {\n",
              "  font-weight: bold;\n",
              "  cursor: pointer;\n",
              "  font-size: 24px;\n",
              "  border-radius: 3px;\n",
              "  text-align: center;\n",
              "  padding: 0.5em;\n",
              "  color: rgb(255, 255, 255);\n",
              "  font-family: \"Palanquin\", sans-serif;\n",
              "  position: absolute;\n",
              "  left: 50%;\n",
              "  top: 50%;\n",
              "  width: 160px;\n",
              "  margin-left: -80px;\n",
              "  margin-top: -23px;\n",
              "  background: hsla(210,11%,15%, 0.8);\n",
              "  border: none;\n",
              "}\n",
              "#foactivate-7d776c73-85ac-41e7-a31c-fc3161ac5f5a:focus {\n",
              "  outline: none;\n",
              "}\n",
              "#fooverlay-7d776c73-85ac-41e7-a31c-fc3161ac5f5a {\n",
              "  width: 100%;\n",
              "  height: 100%;\n",
              "  background: hsla(208, 7%, 46%, 0.7);\n",
              "  position: absolute;\n",
              "  top: 0;\n",
              "  left: 0;\n",
              "  display: none;\n",
              "  cursor: pointer;\n",
              "}\n",
              "</style>\n",
              "<div id=\"focontainer-7d776c73-85ac-41e7-a31c-fc3161ac5f5a\" style=\"display: none;\">\n",
              "   <div id=\"fooverlay-7d776c73-85ac-41e7-a31c-fc3161ac5f5a\">\n",
              "      <button id=\"foactivate-7d776c73-85ac-41e7-a31c-fc3161ac5f5a\" >Activate</button>\n",
              "   </div>\n",
              "</div>"
            ]
          },
          "metadata": {}
        },
        {
          "output_type": "stream",
          "name": "stdout",
          "text": [
            "\n",
            "Welcome to\n",
            "\n",
            "███████╗██╗███████╗████████╗██╗   ██╗ ██████╗ ███╗   ██╗███████╗\n",
            "██╔════╝██║██╔════╝╚══██╔══╝╚██╗ ██╔╝██╔═══██╗████╗  ██║██╔════╝\n",
            "█████╗  ██║█████╗     ██║    ╚████╔╝ ██║   ██║██╔██╗ ██║█████╗\n",
            "██╔══╝  ██║██╔══╝     ██║     ╚██╔╝  ██║   ██║██║╚██╗██║██╔══╝\n",
            "██║     ██║██║        ██║      ██║   ╚██████╔╝██║ ╚████║███████╗\n",
            "╚═╝     ╚═╝╚═╝        ╚═╝      ╚═╝    ╚═════╝ ╚═╝  ╚═══╝╚══════╝ v0.23.7\n",
            "\n",
            "If you're finding FiftyOne helpful, here's how you can get involved:\n",
            "\n",
            "|\n",
            "|  ⭐⭐⭐ Give the project a star on GitHub ⭐⭐⭐\n",
            "|  https://github.com/voxel51/fiftyone\n",
            "|\n",
            "|  🚀🚀🚀 Join the FiftyOne Slack community 🚀🚀🚀\n",
            "|  https://slack.voxel51.com\n",
            "|\n",
            "\n"
          ]
        },
        {
          "output_type": "stream",
          "name": "stderr",
          "text": [
            "INFO:fiftyone.core.session.session:\n",
            "Welcome to\n",
            "\n",
            "███████╗██╗███████╗████████╗██╗   ██╗ ██████╗ ███╗   ██╗███████╗\n",
            "██╔════╝██║██╔════╝╚══██╔══╝╚██╗ ██╔╝██╔═══██╗████╗  ██║██╔════╝\n",
            "█████╗  ██║█████╗     ██║    ╚████╔╝ ██║   ██║██╔██╗ ██║█████╗\n",
            "██╔══╝  ██║██╔══╝     ██║     ╚██╔╝  ██║   ██║██║╚██╗██║██╔══╝\n",
            "██║     ██║██║        ██║      ██║   ╚██████╔╝██║ ╚████║███████╗\n",
            "╚═╝     ╚═╝╚═╝        ╚═╝      ╚═╝    ╚═════╝ ╚═╝  ╚═══╝╚══════╝ v0.23.7\n",
            "\n",
            "If you're finding FiftyOne helpful, here's how you can get involved:\n",
            "\n",
            "|\n",
            "|  ⭐⭐⭐ Give the project a star on GitHub ⭐⭐⭐\n",
            "|  https://github.com/voxel51/fiftyone\n",
            "|\n",
            "|  🚀🚀🚀 Join the FiftyOne Slack community 🚀🚀🚀\n",
            "|  https://slack.voxel51.com\n",
            "|\n",
            "\n"
          ]
        }
      ],
      "source": [
        "# Open the dataset in the App\n",
        "session = fo.launch_app(coco_dataset)"
      ]
    },
    {
      "cell_type": "markdown",
      "metadata": {
        "id": "qrvteLu7vbgF"
      },
      "source": [
        "When working with FiftyOne datasets that contain a field with `Detections`, you can create a [patches view](https://voxel51.com/docs/fiftyone/user_guide/app.html#viewing-object-patches) both through Python and directly in the FiftyOne App to view each detection as a separate sample."
      ]
    },
    {
      "cell_type": "code",
      "execution_count": 12,
      "metadata": {
        "id": "3HsEZvLevbgF",
        "outputId": "c1652ea5-35fc-4956-b932-00d56549af5b",
        "colab": {
          "base_uri": "https://localhost:8080/"
        }
      },
      "outputs": [
        {
          "output_type": "stream",
          "name": "stdout",
          "text": [
            "Dataset:     cleanlab_coco_sample_dataset\n",
            "Media type:  image\n",
            "Num patches: 326\n",
            "Patch fields:\n",
            "    id:         fiftyone.core.fields.ObjectIdField\n",
            "    sample_id:  fiftyone.core.fields.ObjectIdField\n",
            "    filepath:   fiftyone.core.fields.StringField\n",
            "    tags:       fiftyone.core.fields.ListField(fiftyone.core.fields.StringField)\n",
            "    metadata:   fiftyone.core.fields.EmbeddedDocumentField(fiftyone.core.metadata.ImageMetadata)\n",
            "    detections: fiftyone.core.fields.EmbeddedDocumentField(fiftyone.core.labels.Detection)\n",
            "View stages:\n",
            "    1. ToPatches(field='detections', config=None)\n"
          ]
        }
      ],
      "source": [
        "patches_view = coco_dataset.to_patches(\"detections\")\n",
        "print(patches_view)"
      ]
    },
    {
      "cell_type": "markdown",
      "metadata": {
        "id": "yAo1MbwPvbgF"
      },
      "source": [
        "Let's open the App and click the [patches button](https://voxel51.com/docs/fiftyone/user_guide/app.html#viewing-object-patches), then select `ground_truth` to create the same view that we created above."
      ]
    },
    {
      "cell_type": "code",
      "execution_count": 18,
      "metadata": {
        "id": "ISZ37Op0vbgF",
        "outputId": "ad0c06e8-8057-41ae-dadc-f52e2a0f54e8",
        "colab": {
          "base_uri": "https://localhost:8080/",
          "height": 804
        }
      },
      "outputs": [
        {
          "output_type": "display_data",
          "data": {
            "text/plain": [
              "<IPython.core.display.HTML object>"
            ],
            "text/html": [
              "\n",
              "<style>\n",
              "\n",
              "@import url(\"https://fonts.googleapis.com/css2?family=Palanquin&display=swap\");\n",
              "\n",
              "body, html {\n",
              "  margin: 0;\n",
              "  padding: 0;\n",
              "  width: 100%;\n",
              "}\n",
              "\n",
              "#focontainer-ecc85cd0-3391-45bc-9efc-e87446fd0b25 {\n",
              "  position: relative;\n",
              "  height: px;\n",
              "  display: block !important;\n",
              "}\n",
              "#foactivate-ecc85cd0-3391-45bc-9efc-e87446fd0b25 {\n",
              "  font-weight: bold;\n",
              "  cursor: pointer;\n",
              "  font-size: 24px;\n",
              "  border-radius: 3px;\n",
              "  text-align: center;\n",
              "  padding: 0.5em;\n",
              "  color: rgb(255, 255, 255);\n",
              "  font-family: \"Palanquin\", sans-serif;\n",
              "  position: absolute;\n",
              "  left: 50%;\n",
              "  top: 50%;\n",
              "  width: 160px;\n",
              "  margin-left: -80px;\n",
              "  margin-top: -23px;\n",
              "  background: hsla(210,11%,15%, 0.8);\n",
              "  border: none;\n",
              "}\n",
              "#foactivate-ecc85cd0-3391-45bc-9efc-e87446fd0b25:focus {\n",
              "  outline: none;\n",
              "}\n",
              "#fooverlay-ecc85cd0-3391-45bc-9efc-e87446fd0b25 {\n",
              "  width: 100%;\n",
              "  height: 100%;\n",
              "  background: hsla(208, 7%, 46%, 0.7);\n",
              "  position: absolute;\n",
              "  top: 0;\n",
              "  left: 0;\n",
              "  display: none;\n",
              "  cursor: pointer;\n",
              "}\n",
              "</style>\n",
              "<div id=\"focontainer-ecc85cd0-3391-45bc-9efc-e87446fd0b25\" style=\"display: none;\">\n",
              "   <div id=\"fooverlay-ecc85cd0-3391-45bc-9efc-e87446fd0b25\">\n",
              "      <button id=\"foactivate-ecc85cd0-3391-45bc-9efc-e87446fd0b25\" >Activate</button>\n",
              "   </div>\n",
              "</div>"
            ]
          },
          "metadata": {}
        }
      ],
      "source": [
        "session = fo.launch_app(coco_dataset)"
      ]
    },
    {
      "cell_type": "markdown",
      "source": [
        "## Adding Model Prediction"
      ],
      "metadata": {
        "id": "xnxpzCPK7Dyn"
      }
    },
    {
      "cell_type": "code",
      "source": [
        "from detectron2.data import MetadataCatalog\n",
        "\n",
        "# Get the metadata for the COCO dataset\n",
        "metadata = MetadataCatalog.get(\"coco_2017_train\")  # or \"coco_2017_val\", depending on your use case\n",
        "\n",
        "# Access the list of category names\n",
        "class_names = metadata.thing_classes\n",
        "\n",
        "class_to_index = {class_name: index for index, class_name in enumerate(class_names)}\n",
        "print(class_to_index)"
      ],
      "metadata": {
        "colab": {
          "base_uri": "https://localhost:8080/"
        },
        "id": "vo5KcJR8RGva",
        "outputId": "4fa3bff8-8a37-462d-d73c-9760488d3385"
      },
      "execution_count": 17,
      "outputs": [
        {
          "output_type": "stream",
          "name": "stdout",
          "text": [
            "{'person': 0, 'bicycle': 1, 'car': 2, 'motorcycle': 3, 'airplane': 4, 'bus': 5, 'train': 6, 'truck': 7, 'boat': 8, 'traffic light': 9, 'fire hydrant': 10, 'stop sign': 11, 'parking meter': 12, 'bench': 13, 'bird': 14, 'cat': 15, 'dog': 16, 'horse': 17, 'sheep': 18, 'cow': 19, 'elephant': 20, 'bear': 21, 'zebra': 22, 'giraffe': 23, 'backpack': 24, 'umbrella': 25, 'handbag': 26, 'tie': 27, 'suitcase': 28, 'frisbee': 29, 'skis': 30, 'snowboard': 31, 'sports ball': 32, 'kite': 33, 'baseball bat': 34, 'baseball glove': 35, 'skateboard': 36, 'surfboard': 37, 'tennis racket': 38, 'bottle': 39, 'wine glass': 40, 'cup': 41, 'fork': 42, 'knife': 43, 'spoon': 44, 'bowl': 45, 'banana': 46, 'apple': 47, 'sandwich': 48, 'orange': 49, 'broccoli': 50, 'carrot': 51, 'hot dog': 52, 'pizza': 53, 'donut': 54, 'cake': 55, 'chair': 56, 'couch': 57, 'potted plant': 58, 'bed': 59, 'dining table': 60, 'toilet': 61, 'tv': 62, 'laptop': 63, 'mouse': 64, 'remote': 65, 'keyboard': 66, 'cell phone': 67, 'microwave': 68, 'oven': 69, 'toaster': 70, 'sink': 71, 'refrigerator': 72, 'book': 73, 'clock': 74, 'vase': 75, 'scissors': 76, 'teddy bear': 77, 'hair drier': 78, 'toothbrush': 79}\n"
          ]
        }
      ]
    },
    {
      "cell_type": "code",
      "source": [
        "cfg = get_cfg()\n",
        "# add project-specific config (e.g., TensorMask) here if you're not running a model in detectron2's core library\n",
        "cfg.merge_from_file(model_zoo.get_config_file(\"COCO-Detection/faster_rcnn_R_50_FPN_3x.yaml\"))\n",
        "cfg.MODEL.ROI_HEADS.SCORE_THRESH_TEST = 0.5  # set threshold for this model\n",
        "# Find a model from detectron2's model zoo. You can use the https://dl.fbaipublicfiles... url as well\n",
        "cfg.MODEL.WEIGHTS = model_zoo.get_checkpoint_url(\"COCO-Detection/faster_rcnn_R_50_FPN_3x.yaml\")\n",
        "cfg.MODEL.DEVICE = 'cuda'\n",
        "model = DefaultPredictor(cfg)\n",
        "\n",
        "# # model.to(device)\n",
        "# model.eval()\n",
        "print(\"Model ready\")"
      ],
      "metadata": {
        "colab": {
          "base_uri": "https://localhost:8080/"
        },
        "id": "U3FtLJphRPk2",
        "outputId": "e9aa5ec3-81b7-4447-ab52-35e18612cc88"
      },
      "execution_count": 39,
      "outputs": [
        {
          "output_type": "stream",
          "name": "stdout",
          "text": [
            "[03/24 21:43:40 d2.checkpoint.detection_checkpoint]: [DetectionCheckpointer] Loading from https://dl.fbaipublicfiles.com/detectron2/COCO-Detection/faster_rcnn_R_50_FPN_3x/137849458/model_final_280758.pkl ...\n",
            "Model ready\n"
          ]
        }
      ]
    },
    {
      "cell_type": "code",
      "source": [
        "def detectron_to_fo(outputs, img_w, img_h):\n",
        "    # format is documented at https://detectron2.readthedocs.io/tutorials/models.html#model-output-format\n",
        "    detections = []\n",
        "    instances = outputs[\"instances\"].to(\"cpu\")\n",
        "    for pred_box, score, c in zip(\n",
        "        instances.pred_boxes, instances.scores, instances.pred_classes,\n",
        "    ):\n",
        "      c=c.item()\n",
        "      if c in [0,2,9,41,56]:\n",
        "        x1, y1, x2, y2 = pred_box\n",
        "        # fo_mask = mask.numpy()[int(y1):int(y2), int(x1):int(x2)]\n",
        "        bbox = [float(x1)/img_w, float(y1)/img_h, float(x2-x1)/img_w, float(y2-y1)/img_h]\n",
        "        detection = fo.Detection(label=classes[c], confidence=float(score), bounding_box=bbox)\n",
        "        detections.append(detection)\n",
        "\n",
        "    return fo.Detections(detections=detections)"
      ],
      "metadata": {
        "id": "Yps-tv9tRUZH"
      },
      "execution_count": 20,
      "outputs": []
    },
    {
      "cell_type": "code",
      "source": [
        "from PIL import Image\n",
        "# Get class list\n",
        "# classes = coco_dataset.default_classes\n",
        "classes = {0:'person', 2:'car',41:'cup',56:'chair',9:'traffic light'}\n",
        "# classes = {3:'person', 0:'car',21:'cup',1:'chair',4:'traffic light'}\n",
        "# device = torch.device(\"cuda:0\" if torch.cuda.is_available() else \"cpu\")\n",
        "# Add predictions to samples\n",
        "with fo.ProgressBar() as pb:\n",
        "    for sample in pb(coco_dataset):\n",
        "        # Load image\n",
        "        image = cv2.imread(sample.filepath)\n",
        "        # print(image)\n",
        "        # image = func.to_tensor(image).to(device)\n",
        "        h, w, c = image.shape\n",
        "\n",
        "        outputs = model(image)\n",
        "        detections = detectron_to_fo(outputs, w, h)\n",
        "\n",
        "        # Save predictions to dataset\n",
        "        sample[\"predictions\"] = detections\n",
        "        sample.save()"
      ],
      "metadata": {
        "colab": {
          "base_uri": "https://localhost:8080/"
        },
        "id": "avBXBmGNRVbN",
        "outputId": "9afe198d-03da-49f5-9f93-05d734a84440"
      },
      "execution_count": 40,
      "outputs": [
        {
          "output_type": "stream",
          "name": "stdout",
          "text": [
            " 100% |█████████████████| 118/118 [20.9s elapsed, 0s remaining, 6.2 samples/s]      \n"
          ]
        },
        {
          "output_type": "stream",
          "name": "stderr",
          "text": [
            "INFO:eta.core.utils: 100% |█████████████████| 118/118 [20.9s elapsed, 0s remaining, 6.2 samples/s]      \n"
          ]
        }
      ]
    },
    {
      "cell_type": "code",
      "source": [
        "print(coco_dataset)"
      ],
      "metadata": {
        "colab": {
          "base_uri": "https://localhost:8080/"
        },
        "id": "I1OLm_x27De-",
        "outputId": "fb10e7a5-9e69-411e-9966-a8d558fc0ae6"
      },
      "execution_count": 22,
      "outputs": [
        {
          "output_type": "stream",
          "name": "stdout",
          "text": [
            "Name:        cleanlab_coco_sample_dataset\n",
            "Media type:  image\n",
            "Num samples: 118\n",
            "Persistent:  False\n",
            "Tags:        []\n",
            "Sample fields:\n",
            "    id:            fiftyone.core.fields.ObjectIdField\n",
            "    filepath:      fiftyone.core.fields.StringField\n",
            "    tags:          fiftyone.core.fields.ListField(fiftyone.core.fields.StringField)\n",
            "    metadata:      fiftyone.core.fields.EmbeddedDocumentField(fiftyone.core.metadata.ImageMetadata)\n",
            "    detections:    fiftyone.core.fields.EmbeddedDocumentField(fiftyone.core.labels.Detections)\n",
            "    segmentations: fiftyone.core.fields.EmbeddedDocumentField(fiftyone.core.labels.Detections)\n",
            "    coco_id:       fiftyone.core.fields.IntField\n",
            "    predictions:   fiftyone.core.fields.EmbeddedDocumentField(fiftyone.core.labels.Detections)\n"
          ]
        }
      ]
    },
    {
      "cell_type": "code",
      "source": [
        "predicted_view = coco_dataset.to_patches(\"predictions\")\n",
        "print(predicted_view)"
      ],
      "metadata": {
        "colab": {
          "base_uri": "https://localhost:8080/"
        },
        "id": "K5f8vgkYKZU5",
        "outputId": "1ef72771-ac85-4f6c-e561-332e030bb911"
      },
      "execution_count": 23,
      "outputs": [
        {
          "output_type": "stream",
          "name": "stdout",
          "text": [
            "Dataset:     cleanlab_coco_sample_dataset\n",
            "Media type:  image\n",
            "Num patches: 389\n",
            "Patch fields:\n",
            "    id:          fiftyone.core.fields.ObjectIdField\n",
            "    sample_id:   fiftyone.core.fields.ObjectIdField\n",
            "    filepath:    fiftyone.core.fields.StringField\n",
            "    tags:        fiftyone.core.fields.ListField(fiftyone.core.fields.StringField)\n",
            "    metadata:    fiftyone.core.fields.EmbeddedDocumentField(fiftyone.core.metadata.ImageMetadata)\n",
            "    predictions: fiftyone.core.fields.EmbeddedDocumentField(fiftyone.core.labels.Detection)\n",
            "View stages:\n",
            "    1. ToPatches(field='predictions', config=None)\n"
          ]
        }
      ]
    },
    {
      "cell_type": "code",
      "source": [
        "session = fo.launch_app(coco_dataset)"
      ],
      "metadata": {
        "colab": {
          "base_uri": "https://localhost:8080/",
          "height": 804
        },
        "id": "N5yZ5jXU7DXa",
        "outputId": "8c34db22-ed4c-417f-d2a7-9a4537c7cc6e"
      },
      "execution_count": 24,
      "outputs": [
        {
          "output_type": "display_data",
          "data": {
            "text/plain": [
              "<IPython.core.display.HTML object>"
            ],
            "text/html": [
              "\n",
              "<style>\n",
              "\n",
              "@import url(\"https://fonts.googleapis.com/css2?family=Palanquin&display=swap\");\n",
              "\n",
              "body, html {\n",
              "  margin: 0;\n",
              "  padding: 0;\n",
              "  width: 100%;\n",
              "}\n",
              "\n",
              "#focontainer-7076e43b-71f8-4fd9-904a-4fded55b53f7 {\n",
              "  position: relative;\n",
              "  height: px;\n",
              "  display: block !important;\n",
              "}\n",
              "#foactivate-7076e43b-71f8-4fd9-904a-4fded55b53f7 {\n",
              "  font-weight: bold;\n",
              "  cursor: pointer;\n",
              "  font-size: 24px;\n",
              "  border-radius: 3px;\n",
              "  text-align: center;\n",
              "  padding: 0.5em;\n",
              "  color: rgb(255, 255, 255);\n",
              "  font-family: \"Palanquin\", sans-serif;\n",
              "  position: absolute;\n",
              "  left: 50%;\n",
              "  top: 50%;\n",
              "  width: 160px;\n",
              "  margin-left: -80px;\n",
              "  margin-top: -23px;\n",
              "  background: hsla(210,11%,15%, 0.8);\n",
              "  border: none;\n",
              "}\n",
              "#foactivate-7076e43b-71f8-4fd9-904a-4fded55b53f7:focus {\n",
              "  outline: none;\n",
              "}\n",
              "#fooverlay-7076e43b-71f8-4fd9-904a-4fded55b53f7 {\n",
              "  width: 100%;\n",
              "  height: 100%;\n",
              "  background: hsla(208, 7%, 46%, 0.7);\n",
              "  position: absolute;\n",
              "  top: 0;\n",
              "  left: 0;\n",
              "  display: none;\n",
              "  cursor: pointer;\n",
              "}\n",
              "</style>\n",
              "<div id=\"focontainer-7076e43b-71f8-4fd9-904a-4fded55b53f7\" style=\"display: none;\">\n",
              "   <div id=\"fooverlay-7076e43b-71f8-4fd9-904a-4fded55b53f7\">\n",
              "      <button id=\"foactivate-7076e43b-71f8-4fd9-904a-4fded55b53f7\" >Activate</button>\n",
              "   </div>\n",
              "</div>"
            ]
          },
          "metadata": {}
        }
      ]
    },
    {
      "cell_type": "markdown",
      "metadata": {
        "id": "dYsOGI26vbgG"
      },
      "source": [
        "## Compute mistakenness\n",
        "\n",
        "Now we're ready to assess the mistakenness of the ground truth detections.\n",
        "\n",
        "We can do so by running the [compute_mistakenness()](https://voxel51.com/docs/fiftyone/api/fiftyone.brain.html#fiftyone.brain.compute_mistakenness) method from the FiftyOne Brain:"
      ]
    },
    {
      "cell_type": "code",
      "execution_count": 25,
      "metadata": {
        "id": "bfs5CTHhvbgG",
        "outputId": "fe898464-7d08-4a63-da70-1a8d59576243",
        "colab": {
          "base_uri": "https://localhost:8080/"
        }
      },
      "outputs": [
        {
          "output_type": "stream",
          "name": "stdout",
          "text": [
            "Evaluating detections...\n"
          ]
        },
        {
          "output_type": "stream",
          "name": "stderr",
          "text": [
            "INFO:fiftyone.utils.eval.detection:Evaluating detections...\n"
          ]
        },
        {
          "output_type": "stream",
          "name": "stdout",
          "text": [
            " 100% |█████████████████| 118/118 [2.8s elapsed, 0s remaining, 30.0 samples/s]          \n"
          ]
        },
        {
          "output_type": "stream",
          "name": "stderr",
          "text": [
            "INFO:eta.core.utils: 100% |█████████████████| 118/118 [2.8s elapsed, 0s remaining, 30.0 samples/s]          \n"
          ]
        },
        {
          "output_type": "stream",
          "name": "stdout",
          "text": [
            "Computing mistakenness...\n"
          ]
        },
        {
          "output_type": "stream",
          "name": "stderr",
          "text": [
            "INFO:fiftyone.brain.internal.core.mistakenness:Computing mistakenness...\n"
          ]
        },
        {
          "output_type": "stream",
          "name": "stdout",
          "text": [
            " 100% |█████████████████| 118/118 [2.4s elapsed, 0s remaining, 47.5 samples/s]      \n"
          ]
        },
        {
          "output_type": "stream",
          "name": "stderr",
          "text": [
            "INFO:eta.core.utils: 100% |█████████████████| 118/118 [2.4s elapsed, 0s remaining, 47.5 samples/s]      \n"
          ]
        },
        {
          "output_type": "stream",
          "name": "stdout",
          "text": [
            "Mistakenness computation complete\n"
          ]
        },
        {
          "output_type": "stream",
          "name": "stderr",
          "text": [
            "INFO:fiftyone.brain.internal.core.mistakenness:Mistakenness computation complete\n"
          ]
        }
      ],
      "source": [
        "import fiftyone.brain as fob\n",
        "\n",
        "# Compute mistakenness of annotations in `ground_truth` field using\n",
        "# predictions from `predictions` field as point of reference\n",
        "fob.compute_mistakenness(coco_dataset, \"predictions\", label_field=\"detections\")"
      ]
    },
    {
      "cell_type": "markdown",
      "metadata": {
        "id": "DWohdHoEvbgH"
      },
      "source": [
        "The above method populates a number of fields on the samples of our dataset as well as the ground truth and predicted objects:\n",
        "\n",
        "New ground truth object attributes (in `detection` field):\n",
        "\n",
        "- `mistakenness` (float): A measure of the likelihood that a ground truth object's label is incorrect\n",
        "- `mistakenness_loc`: A measure of the likelihood that a ground truth object's localization (bounding box) is inaccurate\n",
        "- `possible_spurious`: Ground truth objects that were not matched with a predicted object and are deemed to be likely spurious annotations will have this attribute set to True\n",
        "\n",
        "New predicted object attributes (in `predictions` field):\n",
        "\n",
        "- `possible_missing`: If a highly confident prediction with no matching ground truth object is encountered, this attribute is set to True to indicate that it is a likely missing ground truth annotation\n",
        "\n",
        "Sample-level fields:\n",
        "\n",
        "- `mistakenness`: The maximum mistakenness of the ground truth objects in each sample\n",
        "- `possible_spurious`: The number of possible spurious ground truth objects in each sample\n",
        "- `possible_missing`: The number of possible missing ground truth objects in each sample"
      ]
    },
    {
      "cell_type": "markdown",
      "metadata": {
        "id": "LZQNgzcivbgH"
      },
      "source": [
        "## Analyzing the results\n",
        "\n",
        "Let's use FiftyOne to investigate the results.\n",
        "\n",
        "First, let's show the samples with the most likely annotation mistakes:"
      ]
    },
    {
      "cell_type": "code",
      "execution_count": 26,
      "metadata": {
        "scrolled": true,
        "id": "hqLyVG9_vbgH",
        "outputId": "82f70e3a-7de8-4efc-ca4e-01b71e96448d",
        "colab": {
          "base_uri": "https://localhost:8080/"
        }
      },
      "outputs": [
        {
          "output_type": "stream",
          "name": "stdout",
          "text": [
            "Dataset:     cleanlab_coco_sample_dataset\n",
            "Media type:  image\n",
            "Num samples: 118\n",
            "Sample fields:\n",
            "    id:                fiftyone.core.fields.ObjectIdField\n",
            "    filepath:          fiftyone.core.fields.StringField\n",
            "    tags:              fiftyone.core.fields.ListField(fiftyone.core.fields.StringField)\n",
            "    metadata:          fiftyone.core.fields.EmbeddedDocumentField(fiftyone.core.metadata.ImageMetadata)\n",
            "    detections:        fiftyone.core.fields.EmbeddedDocumentField(fiftyone.core.labels.Detections)\n",
            "    segmentations:     fiftyone.core.fields.EmbeddedDocumentField(fiftyone.core.labels.Detections)\n",
            "    coco_id:           fiftyone.core.fields.IntField\n",
            "    predictions:       fiftyone.core.fields.EmbeddedDocumentField(fiftyone.core.labels.Detections)\n",
            "    mistakenness:      fiftyone.core.fields.FloatField\n",
            "    possible_missing:  fiftyone.core.fields.IntField\n",
            "    possible_spurious: fiftyone.core.fields.IntField\n",
            "View stages:\n",
            "    1. SortBy(field_or_expr='mistakenness', reverse=True, create_index=True)\n"
          ]
        }
      ],
      "source": [
        "from fiftyone import ViewField as F\n",
        "\n",
        "# Sort by likelihood of mistake (most likely first)\n",
        "mistake_view = coco_dataset.sort_by(\"mistakenness\", reverse=True)\n",
        "\n",
        "# Print some information about the view\n",
        "print(mistake_view)"
      ]
    },
    {
      "cell_type": "code",
      "execution_count": 27,
      "metadata": {
        "id": "XGGS_825vbgH",
        "outputId": "23ed3c1f-4c94-449b-8cc4-6354fa9b91d2",
        "colab": {
          "base_uri": "https://localhost:8080/"
        }
      },
      "outputs": [
        {
          "output_type": "stream",
          "name": "stdout",
          "text": [
            "<Detection: {\n",
            "    'id': '6600946084d6a6bd91ba7d66',\n",
            "    'attributes': {},\n",
            "    'tags': [],\n",
            "    'label': 'traffic light',\n",
            "    'bounding_box': [\n",
            "        0.2686792452830189,\n",
            "        0.073921875,\n",
            "        0.42835579514824795,\n",
            "        0.77653125,\n",
            "    ],\n",
            "    'mask': None,\n",
            "    'confidence': None,\n",
            "    'index': None,\n",
            "    'supercategory': 'outdoor',\n",
            "    'iscrowd': 0,\n",
            "    'mistakenness': 0.23367327451705933,\n",
            "    'mistakenness_loc': 0.5958558468750129,\n",
            "}>\n"
          ]
        }
      ],
      "source": [
        "# Inspect some samples and detections\n",
        "# This is the first detection of the first sample\n",
        "print(mistake_view.first().detections.detections[0])"
      ]
    },
    {
      "cell_type": "markdown",
      "metadata": {
        "id": "8M0mXQjrvbgH"
      },
      "source": [
        "Let's use the App to visually inspect the results:"
      ]
    },
    {
      "cell_type": "code",
      "execution_count": 28,
      "metadata": {
        "id": "kERcfF9MvbgH",
        "outputId": "bd64e213-5b74-4fb8-f525-67a728347fbd",
        "colab": {
          "base_uri": "https://localhost:8080/",
          "height": 804
        }
      },
      "outputs": [
        {
          "output_type": "display_data",
          "data": {
            "text/plain": [
              "<IPython.core.display.HTML object>"
            ],
            "text/html": [
              "\n",
              "<style>\n",
              "\n",
              "@import url(\"https://fonts.googleapis.com/css2?family=Palanquin&display=swap\");\n",
              "\n",
              "body, html {\n",
              "  margin: 0;\n",
              "  padding: 0;\n",
              "  width: 100%;\n",
              "}\n",
              "\n",
              "#focontainer-94f30a63-2a51-48e8-ac66-e5f8de910f9d {\n",
              "  position: relative;\n",
              "  height: px;\n",
              "  display: block !important;\n",
              "}\n",
              "#foactivate-94f30a63-2a51-48e8-ac66-e5f8de910f9d {\n",
              "  font-weight: bold;\n",
              "  cursor: pointer;\n",
              "  font-size: 24px;\n",
              "  border-radius: 3px;\n",
              "  text-align: center;\n",
              "  padding: 0.5em;\n",
              "  color: rgb(255, 255, 255);\n",
              "  font-family: \"Palanquin\", sans-serif;\n",
              "  position: absolute;\n",
              "  left: 50%;\n",
              "  top: 50%;\n",
              "  width: 160px;\n",
              "  margin-left: -80px;\n",
              "  margin-top: -23px;\n",
              "  background: hsla(210,11%,15%, 0.8);\n",
              "  border: none;\n",
              "}\n",
              "#foactivate-94f30a63-2a51-48e8-ac66-e5f8de910f9d:focus {\n",
              "  outline: none;\n",
              "}\n",
              "#fooverlay-94f30a63-2a51-48e8-ac66-e5f8de910f9d {\n",
              "  width: 100%;\n",
              "  height: 100%;\n",
              "  background: hsla(208, 7%, 46%, 0.7);\n",
              "  position: absolute;\n",
              "  top: 0;\n",
              "  left: 0;\n",
              "  display: none;\n",
              "  cursor: pointer;\n",
              "}\n",
              "</style>\n",
              "<div id=\"focontainer-94f30a63-2a51-48e8-ac66-e5f8de910f9d\" style=\"display: none;\">\n",
              "   <div id=\"fooverlay-94f30a63-2a51-48e8-ac66-e5f8de910f9d\">\n",
              "      <button id=\"foactivate-94f30a63-2a51-48e8-ac66-e5f8de910f9d\" >Activate</button>\n",
              "   </div>\n",
              "</div>"
            ]
          },
          "metadata": {}
        }
      ],
      "source": [
        "# Open new App window\n",
        "session.show()"
      ]
    },
    {
      "cell_type": "code",
      "execution_count": 41,
      "metadata": {
        "id": "CrrV2qsfvbgI",
        "outputId": "293e71c2-e27a-40ea-9fd4-6178d2b2590c",
        "colab": {
          "base_uri": "https://localhost:8080/",
          "height": 804
        }
      },
      "outputs": [
        {
          "output_type": "display_data",
          "data": {
            "text/plain": [
              "<IPython.core.display.HTML object>"
            ],
            "text/html": [
              "\n",
              "<style>\n",
              "\n",
              "@import url(\"https://fonts.googleapis.com/css2?family=Palanquin&display=swap\");\n",
              "\n",
              "body, html {\n",
              "  margin: 0;\n",
              "  padding: 0;\n",
              "  width: 100%;\n",
              "}\n",
              "\n",
              "#focontainer-75d6a488-0ade-4b91-9f55-1e959d915024 {\n",
              "  position: relative;\n",
              "  height: px;\n",
              "  display: block !important;\n",
              "}\n",
              "#foactivate-75d6a488-0ade-4b91-9f55-1e959d915024 {\n",
              "  font-weight: bold;\n",
              "  cursor: pointer;\n",
              "  font-size: 24px;\n",
              "  border-radius: 3px;\n",
              "  text-align: center;\n",
              "  padding: 0.5em;\n",
              "  color: rgb(255, 255, 255);\n",
              "  font-family: \"Palanquin\", sans-serif;\n",
              "  position: absolute;\n",
              "  left: 50%;\n",
              "  top: 50%;\n",
              "  width: 160px;\n",
              "  margin-left: -80px;\n",
              "  margin-top: -23px;\n",
              "  background: hsla(210,11%,15%, 0.8);\n",
              "  border: none;\n",
              "}\n",
              "#foactivate-75d6a488-0ade-4b91-9f55-1e959d915024:focus {\n",
              "  outline: none;\n",
              "}\n",
              "#fooverlay-75d6a488-0ade-4b91-9f55-1e959d915024 {\n",
              "  width: 100%;\n",
              "  height: 100%;\n",
              "  background: hsla(208, 7%, 46%, 0.7);\n",
              "  position: absolute;\n",
              "  top: 0;\n",
              "  left: 0;\n",
              "  display: none;\n",
              "  cursor: pointer;\n",
              "}\n",
              "</style>\n",
              "<div id=\"focontainer-75d6a488-0ade-4b91-9f55-1e959d915024\" style=\"display: none;\">\n",
              "   <div id=\"fooverlay-75d6a488-0ade-4b91-9f55-1e959d915024\">\n",
              "      <button id=\"foactivate-75d6a488-0ade-4b91-9f55-1e959d915024\" >Activate</button>\n",
              "   </div>\n",
              "</div>"
            ]
          },
          "metadata": {}
        }
      ],
      "source": [
        "# Show the samples we processed in rank order by the mistakenness\n",
        "session.view = mistake_view"
      ]
    },
    {
      "cell_type": "markdown",
      "metadata": {
        "id": "QFd6lriQvbgI"
      },
      "source": [
        "Another useful query is to find all objects that have a high mistakenness, lets say > 0.01:"
      ]
    },
    {
      "cell_type": "code",
      "execution_count": 31,
      "metadata": {
        "id": "cZTj8gwBvbgI",
        "outputId": "291d0b60-0640-4707-acf0-c721ec7e07ec",
        "colab": {
          "base_uri": "https://localhost:8080/",
          "height": 804
        }
      },
      "outputs": [
        {
          "output_type": "display_data",
          "data": {
            "text/plain": [
              "<IPython.core.display.HTML object>"
            ],
            "text/html": [
              "\n",
              "<style>\n",
              "\n",
              "@import url(\"https://fonts.googleapis.com/css2?family=Palanquin&display=swap\");\n",
              "\n",
              "body, html {\n",
              "  margin: 0;\n",
              "  padding: 0;\n",
              "  width: 100%;\n",
              "}\n",
              "\n",
              "#focontainer-fdc53828-bbf5-4275-b4d0-d4f3b744dd13 {\n",
              "  position: relative;\n",
              "  height: px;\n",
              "  display: block !important;\n",
              "}\n",
              "#foactivate-fdc53828-bbf5-4275-b4d0-d4f3b744dd13 {\n",
              "  font-weight: bold;\n",
              "  cursor: pointer;\n",
              "  font-size: 24px;\n",
              "  border-radius: 3px;\n",
              "  text-align: center;\n",
              "  padding: 0.5em;\n",
              "  color: rgb(255, 255, 255);\n",
              "  font-family: \"Palanquin\", sans-serif;\n",
              "  position: absolute;\n",
              "  left: 50%;\n",
              "  top: 50%;\n",
              "  width: 160px;\n",
              "  margin-left: -80px;\n",
              "  margin-top: -23px;\n",
              "  background: hsla(210,11%,15%, 0.8);\n",
              "  border: none;\n",
              "}\n",
              "#foactivate-fdc53828-bbf5-4275-b4d0-d4f3b744dd13:focus {\n",
              "  outline: none;\n",
              "}\n",
              "#fooverlay-fdc53828-bbf5-4275-b4d0-d4f3b744dd13 {\n",
              "  width: 100%;\n",
              "  height: 100%;\n",
              "  background: hsla(208, 7%, 46%, 0.7);\n",
              "  position: absolute;\n",
              "  top: 0;\n",
              "  left: 0;\n",
              "  display: none;\n",
              "  cursor: pointer;\n",
              "}\n",
              "</style>\n",
              "<div id=\"focontainer-fdc53828-bbf5-4275-b4d0-d4f3b744dd13\" style=\"display: none;\">\n",
              "   <div id=\"fooverlay-fdc53828-bbf5-4275-b4d0-d4f3b744dd13\">\n",
              "      <button id=\"foactivate-fdc53828-bbf5-4275-b4d0-d4f3b744dd13\" >Activate</button>\n",
              "   </div>\n",
              "</div>"
            ]
          },
          "metadata": {}
        }
      ],
      "source": [
        "from fiftyone import ViewField as F\n",
        "\n",
        "session.view = coco_dataset.filter_labels(\"detections\", F(\"mistakenness\") > 0.01)"
      ]
    },
    {
      "cell_type": "markdown",
      "metadata": {
        "id": "3l9CeOPDvbgI"
      },
      "source": [
        "Looking through the results, we see some annotations that may be incorrect. For example, in the image below the `goat` is labeled as a `sheep`.\n",
        "\n",
        "We can use a similar workflow to look at objects that may be localized poorly:"
      ]
    },
    {
      "cell_type": "code",
      "execution_count": 33,
      "metadata": {
        "id": "7uHAZfrJvbgI",
        "outputId": "60191e9f-7149-416b-9102-2c82f33478ec",
        "colab": {
          "base_uri": "https://localhost:8080/",
          "height": 804
        }
      },
      "outputs": [
        {
          "output_type": "display_data",
          "data": {
            "text/plain": [
              "<IPython.core.display.HTML object>"
            ],
            "text/html": [
              "\n",
              "<style>\n",
              "\n",
              "@import url(\"https://fonts.googleapis.com/css2?family=Palanquin&display=swap\");\n",
              "\n",
              "body, html {\n",
              "  margin: 0;\n",
              "  padding: 0;\n",
              "  width: 100%;\n",
              "}\n",
              "\n",
              "#focontainer-b0866464-1ced-4c7c-91a3-e80d457a3548 {\n",
              "  position: relative;\n",
              "  height: px;\n",
              "  display: block !important;\n",
              "}\n",
              "#foactivate-b0866464-1ced-4c7c-91a3-e80d457a3548 {\n",
              "  font-weight: bold;\n",
              "  cursor: pointer;\n",
              "  font-size: 24px;\n",
              "  border-radius: 3px;\n",
              "  text-align: center;\n",
              "  padding: 0.5em;\n",
              "  color: rgb(255, 255, 255);\n",
              "  font-family: \"Palanquin\", sans-serif;\n",
              "  position: absolute;\n",
              "  left: 50%;\n",
              "  top: 50%;\n",
              "  width: 160px;\n",
              "  margin-left: -80px;\n",
              "  margin-top: -23px;\n",
              "  background: hsla(210,11%,15%, 0.8);\n",
              "  border: none;\n",
              "}\n",
              "#foactivate-b0866464-1ced-4c7c-91a3-e80d457a3548:focus {\n",
              "  outline: none;\n",
              "}\n",
              "#fooverlay-b0866464-1ced-4c7c-91a3-e80d457a3548 {\n",
              "  width: 100%;\n",
              "  height: 100%;\n",
              "  background: hsla(208, 7%, 46%, 0.7);\n",
              "  position: absolute;\n",
              "  top: 0;\n",
              "  left: 0;\n",
              "  display: none;\n",
              "  cursor: pointer;\n",
              "}\n",
              "</style>\n",
              "<div id=\"focontainer-b0866464-1ced-4c7c-91a3-e80d457a3548\" style=\"display: none;\">\n",
              "   <div id=\"fooverlay-b0866464-1ced-4c7c-91a3-e80d457a3548\">\n",
              "      <button id=\"foactivate-b0866464-1ced-4c7c-91a3-e80d457a3548\" >Activate</button>\n",
              "   </div>\n",
              "</div>"
            ]
          },
          "metadata": {}
        }
      ],
      "source": [
        "session.view = coco_dataset.filter_labels(\"detections\", F(\"mistakenness_loc\") > 0.50)"
      ]
    },
    {
      "cell_type": "markdown",
      "metadata": {
        "id": "VEzXFbDxvbgI"
      },
      "source": [
        "One of the examples that popped up from this query is shown below. The bounding box around the person on the left side of the image is shifted too far to the right."
      ]
    },
    {
      "cell_type": "markdown",
      "metadata": {
        "id": "YlNivCgvvbgI"
      },
      "source": [
        "The `possible_missing` field can also be useful to sort by to find instances of incorrect annotations.\n",
        "\n",
        "Similarly, `possible_spurious` can be used to find objects that the model detected that may have been missed by annotators."
      ]
    },
    {
      "cell_type": "code",
      "execution_count": 34,
      "metadata": {
        "id": "7ehJm7PKvbgI",
        "outputId": "b6108197-1f0a-4974-a2ef-ad72eeaa0922",
        "colab": {
          "base_uri": "https://localhost:8080/",
          "height": 804
        }
      },
      "outputs": [
        {
          "output_type": "display_data",
          "data": {
            "text/plain": [
              "<IPython.core.display.HTML object>"
            ],
            "text/html": [
              "\n",
              "<style>\n",
              "\n",
              "@import url(\"https://fonts.googleapis.com/css2?family=Palanquin&display=swap\");\n",
              "\n",
              "body, html {\n",
              "  margin: 0;\n",
              "  padding: 0;\n",
              "  width: 100%;\n",
              "}\n",
              "\n",
              "#focontainer-0fe5ce74-3b61-4d81-8429-009bc92bd025 {\n",
              "  position: relative;\n",
              "  height: px;\n",
              "  display: block !important;\n",
              "}\n",
              "#foactivate-0fe5ce74-3b61-4d81-8429-009bc92bd025 {\n",
              "  font-weight: bold;\n",
              "  cursor: pointer;\n",
              "  font-size: 24px;\n",
              "  border-radius: 3px;\n",
              "  text-align: center;\n",
              "  padding: 0.5em;\n",
              "  color: rgb(255, 255, 255);\n",
              "  font-family: \"Palanquin\", sans-serif;\n",
              "  position: absolute;\n",
              "  left: 50%;\n",
              "  top: 50%;\n",
              "  width: 160px;\n",
              "  margin-left: -80px;\n",
              "  margin-top: -23px;\n",
              "  background: hsla(210,11%,15%, 0.8);\n",
              "  border: none;\n",
              "}\n",
              "#foactivate-0fe5ce74-3b61-4d81-8429-009bc92bd025:focus {\n",
              "  outline: none;\n",
              "}\n",
              "#fooverlay-0fe5ce74-3b61-4d81-8429-009bc92bd025 {\n",
              "  width: 100%;\n",
              "  height: 100%;\n",
              "  background: hsla(208, 7%, 46%, 0.7);\n",
              "  position: absolute;\n",
              "  top: 0;\n",
              "  left: 0;\n",
              "  display: none;\n",
              "  cursor: pointer;\n",
              "}\n",
              "</style>\n",
              "<div id=\"focontainer-0fe5ce74-3b61-4d81-8429-009bc92bd025\" style=\"display: none;\">\n",
              "   <div id=\"fooverlay-0fe5ce74-3b61-4d81-8429-009bc92bd025\">\n",
              "      <button id=\"foactivate-0fe5ce74-3b61-4d81-8429-009bc92bd025\" >Activate</button>\n",
              "   </div>\n",
              "</div>"
            ]
          },
          "metadata": {}
        }
      ],
      "source": [
        "session.view = coco_dataset.match(F(\"possible_missing\") > 0)"
      ]
    },
    {
      "cell_type": "markdown",
      "metadata": {
        "id": "IisEftKfvbgJ"
      },
      "source": [
        "An example that showed up from this search is shown above. There is an `apple` that was not annotated that the model detected."
      ]
    },
    {
      "cell_type": "markdown",
      "metadata": {
        "id": "zJ7uk3WivbgJ"
      },
      "source": [
        "## Tagging and resolution\n",
        "\n",
        "Any label or collection of labels can be tagged at any time in the sample grid or expanded sample view. In the expanded sample view, individual samples can be selected by clicking on them in the media player. We can, for example, tag this `apple` prediction as `missing` and any other predictions without an associated ground truth detection.\n",
        "\n",
        "Labels with specific tags can then be selected with [select_labels()](https://voxel51.com/docs/fiftyone/api/fiftyone.core.collections.html?highlight=select_labels#fiftyone.core.collections.SampleCollection.select_labels) stage and sent off to assist in improving the annotations with your annotation provided of choice. FiftyOne currently offers integrations for both [Labelbox](https://voxel51.com/docs/fiftyone/api/fiftyone.utils.labelbox.html) and [Scale](https://voxel51.com/docs/fiftyone/api/fiftyone.utils.scale.html)."
      ]
    },
    {
      "cell_type": "code",
      "execution_count": null,
      "metadata": {
        "id": "FEv8MpmpvbgJ"
      },
      "outputs": [],
      "source": [
        "# A dataset can be filtered to only contain labels with certain tags\n",
        "# Helpful for isolating labels with issues and sending off to an annotation provider\n",
        "missing_ground_truth = coco_dataset.select_labels(tags=\"missing\")"
      ]
    },
    {
      "cell_type": "markdown",
      "metadata": {
        "id": "d_06aCf4vbgJ"
      },
      "source": [
        "**REMEMBER**: Since you are using model predictions to guide the mistakenness process, the better your model, the more accurate the mistakenness suggestions. Additionally, using logits of confidence scores will also provide better results.\n",
        "\n",
        "We used Faster-RCNN in this example which is quite a few years old. Using EfficientDet D7 provided much better results. For example, it was easily able to find this `snowboard` labeled as `skis`:"
      ]
    },
    {
      "cell_type": "markdown",
      "metadata": {
        "id": "ja6gaettvbgJ"
      },
      "source": [
        "![skis](https://github.com/voxel51/fiftyone/blob/v0.23.5/docs/source/tutorials/images/det_mistakenness_6.png?raw=1)"
      ]
    },
    {
      "cell_type": "code",
      "execution_count": 35,
      "metadata": {
        "id": "T5BpaTvfvbgJ"
      },
      "outputs": [],
      "source": [
        "session.freeze() # screenshot the active App for sharing"
      ]
    }
  ],
  "metadata": {
    "kernelspec": {
      "display_name": "Python 3",
      "name": "python3"
    },
    "language_info": {
      "codemirror_mode": {
        "name": "ipython",
        "version": 3
      },
      "file_extension": ".py",
      "mimetype": "text/x-python",
      "name": "python",
      "nbconvert_exporter": "python",
      "pygments_lexer": "ipython3",
      "version": "3.9.13"
    },
    "colab": {
      "provenance": [],
      "gpuType": "T4",
      "include_colab_link": true
    },
    "accelerator": "GPU"
  },
  "nbformat": 4,
  "nbformat_minor": 0
}